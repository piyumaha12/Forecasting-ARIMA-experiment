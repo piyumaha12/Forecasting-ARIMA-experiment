{
 "cells": [
  {
   "cell_type": "markdown",
   "metadata": {},
   "source": [
    "<p id=\"toc\"></p>\n",
    "\n",
    "<h1 style=\"font-family: Times New Roman; font-size: 30px; font-style: normal; font-weight: bold; text-decoration: none; text-transform: none; letter-spacing: 3px; color: teal; background-color: #ffffff;\">TABLE OF CONTENTS</h1>\n",
    "\n",
    "---\n",
    "\n",
    "<h3 style=\"text-indent: 8vw; font-family: Times New Roman; font-size: 20px; font-style: normal; font-weight: normal; text-decoration: none; text-transform: none; letter-spacing: 2px; color: navy; background-color: #ffffff;\"><a href=\"#0\">0&nbsp;&nbsp;&nbsp;&nbsp;IMPORTS</a></h3>\n",
    "\n",
    "---\n",
    "\n",
    "<h3 style=\"text-indent: 8vw; font-family: Times New Roman; font-size: 20px; font-style: normal; font-weight: normal; text-decoration: none; text-transform: none; letter-spacing: 2px; color: navy; background-color: #ffffff;\"><a href=\"#1\">1&nbsp;&nbsp;&nbsp;&nbsp;DATASET</a></h3>\n",
    "\n",
    "---\n",
    "\n",
    "<h3 style=\"text-indent: 8vw; font-family: Times New Roman; font-size: 20px; font-style: normal; font-weight: normal; text-decoration: none; text-transform: none; letter-spacing: 2px; color: navy; background-color: #ffffff;\"><a href=\"#2\">2&nbsp;&nbsp;&nbsp;&nbsp;DATA EXPLORATION AND VISUALIZATION</a></h3>\n",
    "\n",
    "<h3 style=\"text-indent: 15vw; font-family: Times New Roman; font-size: 18px; font-style: normal; font-weight: normal; text-decoration: none; text-transform: none; letter-spacing: 2px; color: navy; background-color: #ffffff;\"><a href=\"#2.1\">2.1&nbsp;&nbsp;&nbsp;&nbsp;Basic Exploration</a></h3>\n",
    "\n",
    "<h3 style=\"text-indent: 15vw; font-family: Times New Roman; font-size: 18px; font-style: normal; font-weight: normal; text-decoration: none; text-transform: none; letter-spacing: 2px; color: navy; background-color: #ffffff;\"><a href=\"#2.2\">2.2&nbsp;&nbsp;&nbsp;&nbsp;Changing Datatype and index</a></h3>\n",
    "\n",
    "\n",
    "<h3 style=\"text-indent: 15vw; font-family: Times New Roman; font-size: 18px; font-style: normal; font-weight: normal; text-decoration: none; text-transform: none; letter-spacing: 2px; color: navy; background-color: #ffffff;\"><a href=\"#2.3\">2.3&nbsp;&nbsp;&nbsp;&nbsp;Time Series Visualization</a></h3>\n",
    "\n",
    "<h3 style=\"text-indent: 15vw; font-family: Times New Roman; font-size: 18px; font-style: normal; font-weight: normal; text-decoration: none; text-transform: none; letter-spacing: 2px; color: navy; background-color: #ffffff;\"><a href=\"#2.4\">2.4&nbsp;&nbsp;&nbsp;&nbsp;Differencing Dataset</a></h3>\n",
    "\n",
    "<h3 style=\"text-indent: 15vw; font-family: Times New Roman; font-size: 18px; font-style: normal; font-weight: normal; text-decoration: none; text-transform: none; letter-spacing: 2px; color: navy; background-color: #ffffff;\"><a href=\"#2.5\">2.5&nbsp;&nbsp;&nbsp;&nbsp;Finding correct order and type of differencing</a></h3>\n",
    "\n",
    "<h3 style=\"text-indent: 15vw; font-family: Times New Roman; font-size: 18px; font-style: normal; font-weight: normal; text-decoration: none; text-transform: none; letter-spacing: 2px; color: navy; background-color: #ffffff;\"><a href=\"#2.6\">2.6&nbsp;&nbsp;&nbsp;&nbsp;ACF and PACF plots</a></h3>\n",
    "\n",
    "---\n",
    "\n",
    "<h3 style=\"text-indent: 8vw; font-family: Times New Roman; font-size: 20px; font-style: normal; font-weight: normal; text-decoration: none; text-transform: none; letter-spacing: 2px; color: navy; background-color: #ffffff;\"><a href=\"#3\">3&nbsp;&nbsp;&nbsp;&nbsp;MODEL BUILDING</a></h3>\n",
    "\n",
    "<h3 style=\"text-indent: 15vw; font-family: Times New Roman; font-size: 18px; font-style: normal; font-weight: normal; text-decoration: none; text-transform: none; letter-spacing: 2px; color: navy; background-color: #ffffff;\"><a href=\"#model_imports\">3.1&nbsp;&nbsp;&nbsp;&nbsp;Model Imports</a></h3>\n",
    "\n",
    "---"
   ]
  },
  {
   "cell_type": "markdown",
   "metadata": {},
   "source": [
    "# <span><center style = \"display: fill; border-radius: 40px; background-color:  #ecf0f1 ; font-family: Times New Roman; font-size:40px; color : black; letter-spacing: 3px; font-weight: bold; padding: 10px\" id = \"0\" >0. &nbsp;IMPORTS&nbsp;&nbsp;&nbsp;&nbsp;<a href = '#toc' style = 'color : black'>&#10514;</a></center></span>"
   ]
  },
  {
   "cell_type": "code",
   "execution_count": 1,
   "metadata": {},
   "outputs": [],
   "source": [
    "import pandas as pd\n",
    "import numpy as np\n",
    "import plotly.express as px\n",
    "import plotly.graph_objects as go\n",
    "import plotly.figure_factory as ff\n",
    "import os\n",
    "import matplotlib.pyplot as plt\n",
    "import seaborn as sns\n",
    "import torch\n",
    "import random\n",
    "\n",
    "from IPython.display import display\n",
    "\n",
    "from statsmodels.tsa.arima_model import ARIMA\n",
    "from statsmodels.tsa.seasonal import seasonal_decompose\n",
    "from statsmodels.tsa.statespace.sarimax import SARIMAX\n",
    "from statsmodels.tsa.holtwinters import Holt, SimpleExpSmoothing, ExponentialSmoothing\n",
    "from statsmodels.graphics.tsaplots import plot_acf, plot_pacf, seasonal_plot\n",
    "from statsmodels.tsa.stattools import adfuller, kpss\n",
    "from statsmodels.formula.api import ols\n",
    "\n",
    "from sklearn.metrics import mean_absolute_percentage_error, mean_squared_error\n",
    "from sklearn.linear_model import LinearRegression\n",
    "\n",
    "import torch.nn as nn\n",
    "import torch.nn.functional as F\n",
    "from tqdm import tqdm\n",
    "\n",
    "\n",
    "from colorama import Fore\n",
    "y_ = Fore.YELLOW\n",
    "r_ = Fore.RED\n",
    "g_ = Fore.GREEN\n",
    "b_ = Fore.BLUE\n",
    "m_ = Fore.MAGENTA\n",
    "bl_ = Fore.BLACK\n",
    "\n",
    "\n",
    "import warnings\n",
    "warnings.filterwarnings('ignore')"
   ]
  },
  {
   "cell_type": "code",
   "execution_count": 2,
   "metadata": {},
   "outputs": [
    {
     "name": "stdout",
     "output_type": "stream",
     "text": [
      "--> SEEDING DONE\n"
     ]
    }
   ],
   "source": [
    "class config:\n",
    "    random_seed = 15\n",
    "\n",
    "def set_seed(seed = config.random_seed):\n",
    "    np.random.seed(seed)\n",
    "    random.seed(seed)\n",
    "    torch.manual_seed(seed)\n",
    "    torch.cuda.manual_seed(seed)\n",
    "    os.environ['PYTHONHASHSEED'] = str(seed)\n",
    "    print(\"--> SEEDING DONE\")\n",
    "    \n",
    "set_seed(config.random_seed)"
   ]
  },
  {
   "cell_type": "markdown",
   "metadata": {},
   "source": [
    "# <span><center style = \"display: fill; border-radius: 40px; background-color:  #ecf0f1 ; font-family: Times New Roman; font-size:40px; color : black; letter-spacing: 3px; font-weight: bold; padding: 10px\" id = \"1\" >1. &nbsp;DATASET&nbsp;&nbsp;&nbsp;&nbsp;<a href = '#toc' style = 'color : black'>&#10514;</a></center></span>"
   ]
  },
  {
   "cell_type": "code",
   "execution_count": 3,
   "metadata": {},
   "outputs": [],
   "source": [
    "airline = pd.read_excel('Airlines+Data.xlsx')\n",
    "energy = pd.read_csv('energy_dataset.csv')\n",
    "weather = pd.read_csv('weather_features.csv')"
   ]
  },
  {
   "cell_type": "markdown",
   "metadata": {},
   "source": [
    "# <span><center style = \"display: fill; border-radius: 40px; background-color:  #ecf0f1 ; font-family: Times New Roman; font-size:40px; color : black; letter-spacing: 3px; font-weight: bold; padding: 10px\" id = \"2\" >2. &nbsp;DATA EXPLORATION & VISUALIZATION&nbsp;&nbsp;&nbsp;&nbsp;<a href = '#toc' style = 'color : black'>&#10514;</a></center></span>"
   ]
  },
  {
   "cell_type": "markdown",
   "metadata": {},
   "source": [
    "## <span><center style=\"text-indent: 2vw;color:black; display:fill; border-radius:30px; background-color: #ecf0f1 ; font-size:30px; font-family:Nexa; letter-spacing:0.5px; padding: 10px; text-align:left\" id = '2.1'><b>2.1 | Basic Exploration&nbsp;&nbsp;<a href = '#toc' style = 'color : black'>&#10514;</a></b></center></span>"
   ]
  },
  {
   "cell_type": "code",
   "execution_count": 4,
   "metadata": {},
   "outputs": [
    {
     "name": "stdout",
     "output_type": "stream",
     "text": [
      "The shape of \u001b[33mAirline \u001b[30m is \u001b[33m(96, 2)\n",
      "\u001b[30mThe shape of \u001b[33mEnergy \u001b[30m is \u001b[33m(35064, 29)\n",
      "\u001b[30mThe shape of \u001b[33mWeather \u001b[30m is \u001b[33m(178396, 17)\n"
     ]
    }
   ],
   "source": [
    "print(f'The shape of {y_}Airline {bl_} is {y_}{airline.shape}')\n",
    "print(f'{bl_}The shape of {y_}Energy {bl_} is {y_}{energy.shape}')\n",
    "print(f'{bl_}The shape of {y_}Weather {bl_} is {y_}{weather.shape}')"
   ]
  },
  {
   "cell_type": "code",
   "execution_count": 5,
   "metadata": {},
   "outputs": [
    {
     "name": "stdout",
     "output_type": "stream",
     "text": [
      "\u001b[34m First 5 Rows of Airline dataset\n"
     ]
    },
    {
     "data": {
      "text/html": [
       "<div>\n",
       "<style scoped>\n",
       "    .dataframe tbody tr th:only-of-type {\n",
       "        vertical-align: middle;\n",
       "    }\n",
       "\n",
       "    .dataframe tbody tr th {\n",
       "        vertical-align: top;\n",
       "    }\n",
       "\n",
       "    .dataframe thead th {\n",
       "        text-align: right;\n",
       "    }\n",
       "</style>\n",
       "<table border=\"1\" class=\"dataframe\">\n",
       "  <thead>\n",
       "    <tr style=\"text-align: right;\">\n",
       "      <th></th>\n",
       "      <th>Month</th>\n",
       "      <th>Passengers</th>\n",
       "    </tr>\n",
       "  </thead>\n",
       "  <tbody>\n",
       "    <tr>\n",
       "      <th>0</th>\n",
       "      <td>1995-01-01</td>\n",
       "      <td>112</td>\n",
       "    </tr>\n",
       "    <tr>\n",
       "      <th>1</th>\n",
       "      <td>1995-02-01</td>\n",
       "      <td>118</td>\n",
       "    </tr>\n",
       "    <tr>\n",
       "      <th>2</th>\n",
       "      <td>1995-03-01</td>\n",
       "      <td>132</td>\n",
       "    </tr>\n",
       "    <tr>\n",
       "      <th>3</th>\n",
       "      <td>1995-04-01</td>\n",
       "      <td>129</td>\n",
       "    </tr>\n",
       "    <tr>\n",
       "      <th>4</th>\n",
       "      <td>1995-05-01</td>\n",
       "      <td>121</td>\n",
       "    </tr>\n",
       "  </tbody>\n",
       "</table>\n",
       "</div>"
      ],
      "text/plain": [
       "       Month  Passengers\n",
       "0 1995-01-01         112\n",
       "1 1995-02-01         118\n",
       "2 1995-03-01         132\n",
       "3 1995-04-01         129\n",
       "4 1995-05-01         121"
      ]
     },
     "metadata": {},
     "output_type": "display_data"
    },
    {
     "name": "stdout",
     "output_type": "stream",
     "text": [
      "\u001b[34m Last 5 Rows of Airline dataset\n"
     ]
    },
    {
     "data": {
      "text/html": [
       "<div>\n",
       "<style scoped>\n",
       "    .dataframe tbody tr th:only-of-type {\n",
       "        vertical-align: middle;\n",
       "    }\n",
       "\n",
       "    .dataframe tbody tr th {\n",
       "        vertical-align: top;\n",
       "    }\n",
       "\n",
       "    .dataframe thead th {\n",
       "        text-align: right;\n",
       "    }\n",
       "</style>\n",
       "<table border=\"1\" class=\"dataframe\">\n",
       "  <thead>\n",
       "    <tr style=\"text-align: right;\">\n",
       "      <th></th>\n",
       "      <th>Month</th>\n",
       "      <th>Passengers</th>\n",
       "    </tr>\n",
       "  </thead>\n",
       "  <tbody>\n",
       "    <tr>\n",
       "      <th>91</th>\n",
       "      <td>2002-08-01</td>\n",
       "      <td>405</td>\n",
       "    </tr>\n",
       "    <tr>\n",
       "      <th>92</th>\n",
       "      <td>2002-09-01</td>\n",
       "      <td>355</td>\n",
       "    </tr>\n",
       "    <tr>\n",
       "      <th>93</th>\n",
       "      <td>2002-10-01</td>\n",
       "      <td>306</td>\n",
       "    </tr>\n",
       "    <tr>\n",
       "      <th>94</th>\n",
       "      <td>2002-11-01</td>\n",
       "      <td>271</td>\n",
       "    </tr>\n",
       "    <tr>\n",
       "      <th>95</th>\n",
       "      <td>2002-12-01</td>\n",
       "      <td>306</td>\n",
       "    </tr>\n",
       "  </tbody>\n",
       "</table>\n",
       "</div>"
      ],
      "text/plain": [
       "        Month  Passengers\n",
       "91 2002-08-01         405\n",
       "92 2002-09-01         355\n",
       "93 2002-10-01         306\n",
       "94 2002-11-01         271\n",
       "95 2002-12-01         306"
      ]
     },
     "metadata": {},
     "output_type": "display_data"
    }
   ],
   "source": [
    "print(f'{b_} First 5 Rows of Airline dataset')\n",
    "display(airline.head())\n",
    "\n",
    "print(f'{b_} Last 5 Rows of Airline dataset')\n",
    "display(airline.tail())\n"
   ]
  },
  {
   "cell_type": "code",
   "execution_count": 6,
   "metadata": {},
   "outputs": [
    {
     "data": {
      "text/html": [
       "<div>\n",
       "<style scoped>\n",
       "    .dataframe tbody tr th:only-of-type {\n",
       "        vertical-align: middle;\n",
       "    }\n",
       "\n",
       "    .dataframe tbody tr th {\n",
       "        vertical-align: top;\n",
       "    }\n",
       "\n",
       "    .dataframe thead th {\n",
       "        text-align: right;\n",
       "    }\n",
       "</style>\n",
       "<table border=\"1\" class=\"dataframe\">\n",
       "  <thead>\n",
       "    <tr style=\"text-align: right;\">\n",
       "      <th></th>\n",
       "      <th>Passengers</th>\n",
       "    </tr>\n",
       "  </thead>\n",
       "  <tbody>\n",
       "    <tr>\n",
       "      <th>count</th>\n",
       "      <td>96.000000</td>\n",
       "    </tr>\n",
       "    <tr>\n",
       "      <th>mean</th>\n",
       "      <td>213.708333</td>\n",
       "    </tr>\n",
       "    <tr>\n",
       "      <th>std</th>\n",
       "      <td>71.918216</td>\n",
       "    </tr>\n",
       "    <tr>\n",
       "      <th>min</th>\n",
       "      <td>104.000000</td>\n",
       "    </tr>\n",
       "    <tr>\n",
       "      <th>25%</th>\n",
       "      <td>156.000000</td>\n",
       "    </tr>\n",
       "    <tr>\n",
       "      <th>50%</th>\n",
       "      <td>200.000000</td>\n",
       "    </tr>\n",
       "    <tr>\n",
       "      <th>75%</th>\n",
       "      <td>264.750000</td>\n",
       "    </tr>\n",
       "    <tr>\n",
       "      <th>max</th>\n",
       "      <td>413.000000</td>\n",
       "    </tr>\n",
       "  </tbody>\n",
       "</table>\n",
       "</div>"
      ],
      "text/plain": [
       "       Passengers\n",
       "count   96.000000\n",
       "mean   213.708333\n",
       "std     71.918216\n",
       "min    104.000000\n",
       "25%    156.000000\n",
       "50%    200.000000\n",
       "75%    264.750000\n",
       "max    413.000000"
      ]
     },
     "execution_count": 6,
     "metadata": {},
     "output_type": "execute_result"
    }
   ],
   "source": [
    "airline.describe()"
   ]
  },
  {
   "cell_type": "code",
   "execution_count": 7,
   "metadata": {},
   "outputs": [
    {
     "name": "stdout",
     "output_type": "stream",
     "text": [
      "<class 'pandas.core.frame.DataFrame'>\n",
      "RangeIndex: 96 entries, 0 to 95\n",
      "Data columns (total 2 columns):\n",
      " #   Column      Non-Null Count  Dtype         \n",
      "---  ------      --------------  -----         \n",
      " 0   Month       96 non-null     datetime64[ns]\n",
      " 1   Passengers  96 non-null     int64         \n",
      "dtypes: datetime64[ns](1), int64(1)\n",
      "memory usage: 1.6 KB\n"
     ]
    }
   ],
   "source": [
    "airline.info()"
   ]
  },
  {
   "cell_type": "markdown",
   "metadata": {},
   "source": [
    "<div style=\"margin: 2em; line-height: 1.7em; font-family: Times New Roman;\">\n",
    "    <b style=\"font-size: 24px;\">✅ &nbsp; Observation:</b><br><br>- Dataset is completely clean and clear.<br>\n",
    "    - So Let's plot the line chart\n",
    "</div>"
   ]
  },
  {
   "cell_type": "markdown",
   "metadata": {},
   "source": [
    "## <span><center style=\"text-indent: 2vw;color:black; display:fill; border-radius:30px; background-color: #ecf0f1 ; font-size:30px; font-family:Nexa; letter-spacing:0.5px; padding: 10px; text-align:left\" id = '2.2'><b>2.2 | Changing datatype and index&nbsp;&nbsp;<a href = '#toc' style = 'color : black'>&#10514;</a></b></center></span>"
   ]
  },
  {
   "cell_type": "code",
   "execution_count": 8,
   "metadata": {},
   "outputs": [
    {
     "data": {
      "text/plain": [
       "Month         datetime64[ns]\n",
       "Passengers             int64\n",
       "dtype: object"
      ]
     },
     "execution_count": 8,
     "metadata": {},
     "output_type": "execute_result"
    }
   ],
   "source": [
    "airline.dtypes"
   ]
  },
  {
   "cell_type": "code",
   "execution_count": 9,
   "metadata": {},
   "outputs": [
    {
     "data": {
      "text/html": [
       "<div>\n",
       "<style scoped>\n",
       "    .dataframe tbody tr th:only-of-type {\n",
       "        vertical-align: middle;\n",
       "    }\n",
       "\n",
       "    .dataframe tbody tr th {\n",
       "        vertical-align: top;\n",
       "    }\n",
       "\n",
       "    .dataframe thead th {\n",
       "        text-align: right;\n",
       "    }\n",
       "</style>\n",
       "<table border=\"1\" class=\"dataframe\">\n",
       "  <thead>\n",
       "    <tr style=\"text-align: right;\">\n",
       "      <th></th>\n",
       "      <th>date</th>\n",
       "      <th>Passengers</th>\n",
       "    </tr>\n",
       "    <tr>\n",
       "      <th>Month</th>\n",
       "      <th></th>\n",
       "      <th></th>\n",
       "    </tr>\n",
       "  </thead>\n",
       "  <tbody>\n",
       "    <tr>\n",
       "      <th>1995-01-01</th>\n",
       "      <td>1995-01-01</td>\n",
       "      <td>112</td>\n",
       "    </tr>\n",
       "    <tr>\n",
       "      <th>1995-02-01</th>\n",
       "      <td>1995-02-01</td>\n",
       "      <td>118</td>\n",
       "    </tr>\n",
       "    <tr>\n",
       "      <th>1995-03-01</th>\n",
       "      <td>1995-03-01</td>\n",
       "      <td>132</td>\n",
       "    </tr>\n",
       "    <tr>\n",
       "      <th>1995-04-01</th>\n",
       "      <td>1995-04-01</td>\n",
       "      <td>129</td>\n",
       "    </tr>\n",
       "    <tr>\n",
       "      <th>1995-05-01</th>\n",
       "      <td>1995-05-01</td>\n",
       "      <td>121</td>\n",
       "    </tr>\n",
       "  </tbody>\n",
       "</table>\n",
       "</div>"
      ],
      "text/plain": [
       "                 date  Passengers\n",
       "Month                            \n",
       "1995-01-01 1995-01-01         112\n",
       "1995-02-01 1995-02-01         118\n",
       "1995-03-01 1995-03-01         132\n",
       "1995-04-01 1995-04-01         129\n",
       "1995-05-01 1995-05-01         121"
      ]
     },
     "execution_count": 9,
     "metadata": {},
     "output_type": "execute_result"
    }
   ],
   "source": [
    "airline.set_index('Month', drop = False, inplace = True)\n",
    "airline.rename(columns={'Month':'date'}, inplace= True)\n",
    "airline.head()"
   ]
  },
  {
   "cell_type": "code",
   "execution_count": null,
   "metadata": {},
   "outputs": [],
   "source": []
  },
  {
   "cell_type": "markdown",
   "metadata": {},
   "source": [
    "## <span><center style=\"text-indent: 2vw;color:black; display:fill; border-radius:30px; background-color: #ecf0f1 ; font-size:30px; font-family:Nexa; letter-spacing:0.5px; padding: 10px; text-align:left\" id = '2.3'><b>2.3 | Time Series Visualization&nbsp;&nbsp;<a href = '#toc' style = 'color : black'>&#10514;</a></b></center></span>"
   ]
  },
  {
   "cell_type": "code",
   "execution_count": 10,
   "metadata": {},
   "outputs": [
    {
     "data": {
      "application/vnd.plotly.v1+json": {
       "config": {
        "plotlyServerURL": "https://plot.ly"
       },
       "data": [
        {
         "hovertemplate": "Month=%{x}<br>Passengers=%{y}<extra></extra>",
         "legendgroup": "",
         "line": {
          "color": "#636efa",
          "dash": "solid"
         },
         "marker": {
          "symbol": "circle"
         },
         "mode": "lines",
         "name": "",
         "orientation": "v",
         "showlegend": false,
         "type": "scatter",
         "x": [
          "1995-01-01T00:00:00",
          "1995-02-01T00:00:00",
          "1995-03-01T00:00:00",
          "1995-04-01T00:00:00",
          "1995-05-01T00:00:00",
          "1995-06-01T00:00:00",
          "1995-07-01T00:00:00",
          "1995-08-01T00:00:00",
          "1995-09-01T00:00:00",
          "1995-10-01T00:00:00",
          "1995-11-01T00:00:00",
          "1995-12-01T00:00:00",
          "1996-01-01T00:00:00",
          "1996-02-01T00:00:00",
          "1996-03-01T00:00:00",
          "1996-04-01T00:00:00",
          "1996-05-01T00:00:00",
          "1996-06-01T00:00:00",
          "1996-07-01T00:00:00",
          "1996-08-01T00:00:00",
          "1996-09-01T00:00:00",
          "1996-10-01T00:00:00",
          "1996-11-01T00:00:00",
          "1996-12-01T00:00:00",
          "1997-01-01T00:00:00",
          "1997-02-01T00:00:00",
          "1997-03-01T00:00:00",
          "1997-04-01T00:00:00",
          "1997-05-01T00:00:00",
          "1997-06-01T00:00:00",
          "1997-07-01T00:00:00",
          "1997-08-01T00:00:00",
          "1997-09-01T00:00:00",
          "1997-10-01T00:00:00",
          "1997-11-01T00:00:00",
          "1997-12-01T00:00:00",
          "1998-01-01T00:00:00",
          "1998-02-01T00:00:00",
          "1998-03-01T00:00:00",
          "1998-04-01T00:00:00",
          "1998-05-01T00:00:00",
          "1998-06-01T00:00:00",
          "1998-07-01T00:00:00",
          "1998-08-01T00:00:00",
          "1998-09-01T00:00:00",
          "1998-10-01T00:00:00",
          "1998-11-01T00:00:00",
          "1998-12-01T00:00:00",
          "1999-01-01T00:00:00",
          "1999-02-01T00:00:00",
          "1999-03-01T00:00:00",
          "1999-04-01T00:00:00",
          "1999-05-01T00:00:00",
          "1999-06-01T00:00:00",
          "1999-07-01T00:00:00",
          "1999-08-01T00:00:00",
          "1999-09-01T00:00:00",
          "1999-10-01T00:00:00",
          "1999-11-01T00:00:00",
          "1999-12-01T00:00:00",
          "2000-01-01T00:00:00",
          "2000-02-01T00:00:00",
          "2000-03-01T00:00:00",
          "2000-04-01T00:00:00",
          "2000-05-01T00:00:00",
          "2000-06-01T00:00:00",
          "2000-07-01T00:00:00",
          "2000-08-01T00:00:00",
          "2000-09-01T00:00:00",
          "2000-10-01T00:00:00",
          "2000-11-01T00:00:00",
          "2000-12-01T00:00:00",
          "2001-01-01T00:00:00",
          "2001-02-01T00:00:00",
          "2001-03-01T00:00:00",
          "2001-04-01T00:00:00",
          "2001-05-01T00:00:00",
          "2001-06-01T00:00:00",
          "2001-07-01T00:00:00",
          "2001-08-01T00:00:00",
          "2001-09-01T00:00:00",
          "2001-10-01T00:00:00",
          "2001-11-01T00:00:00",
          "2001-12-01T00:00:00",
          "2002-01-01T00:00:00",
          "2002-02-01T00:00:00",
          "2002-03-01T00:00:00",
          "2002-04-01T00:00:00",
          "2002-05-01T00:00:00",
          "2002-06-01T00:00:00",
          "2002-07-01T00:00:00",
          "2002-08-01T00:00:00",
          "2002-09-01T00:00:00",
          "2002-10-01T00:00:00",
          "2002-11-01T00:00:00",
          "2002-12-01T00:00:00"
         ],
         "xaxis": "x",
         "y": [
          112,
          118,
          132,
          129,
          121,
          135,
          148,
          148,
          136,
          119,
          104,
          118,
          115,
          126,
          141,
          135,
          125,
          149,
          170,
          170,
          158,
          133,
          114,
          140,
          145,
          150,
          178,
          163,
          172,
          178,
          199,
          199,
          184,
          162,
          146,
          166,
          171,
          180,
          193,
          181,
          183,
          218,
          230,
          242,
          209,
          191,
          172,
          194,
          196,
          196,
          236,
          235,
          229,
          243,
          264,
          272,
          237,
          211,
          180,
          201,
          204,
          188,
          235,
          227,
          234,
          264,
          302,
          293,
          259,
          229,
          203,
          229,
          242,
          233,
          267,
          269,
          270,
          315,
          364,
          347,
          312,
          274,
          237,
          278,
          284,
          277,
          317,
          313,
          318,
          374,
          413,
          405,
          355,
          306,
          271,
          306
         ],
         "yaxis": "y"
        }
       ],
       "layout": {
        "legend": {
         "tracegroupgap": 0
        },
        "margin": {
         "t": 60
        },
        "template": {
         "data": {
          "bar": [
           {
            "error_x": {
             "color": "#2a3f5f"
            },
            "error_y": {
             "color": "#2a3f5f"
            },
            "marker": {
             "line": {
              "color": "#E5ECF6",
              "width": 0.5
             },
             "pattern": {
              "fillmode": "overlay",
              "size": 10,
              "solidity": 0.2
             }
            },
            "type": "bar"
           }
          ],
          "barpolar": [
           {
            "marker": {
             "line": {
              "color": "#E5ECF6",
              "width": 0.5
             },
             "pattern": {
              "fillmode": "overlay",
              "size": 10,
              "solidity": 0.2
             }
            },
            "type": "barpolar"
           }
          ],
          "carpet": [
           {
            "aaxis": {
             "endlinecolor": "#2a3f5f",
             "gridcolor": "white",
             "linecolor": "white",
             "minorgridcolor": "white",
             "startlinecolor": "#2a3f5f"
            },
            "baxis": {
             "endlinecolor": "#2a3f5f",
             "gridcolor": "white",
             "linecolor": "white",
             "minorgridcolor": "white",
             "startlinecolor": "#2a3f5f"
            },
            "type": "carpet"
           }
          ],
          "choropleth": [
           {
            "colorbar": {
             "outlinewidth": 0,
             "ticks": ""
            },
            "type": "choropleth"
           }
          ],
          "contour": [
           {
            "colorbar": {
             "outlinewidth": 0,
             "ticks": ""
            },
            "colorscale": [
             [
              0,
              "#0d0887"
             ],
             [
              0.1111111111111111,
              "#46039f"
             ],
             [
              0.2222222222222222,
              "#7201a8"
             ],
             [
              0.3333333333333333,
              "#9c179e"
             ],
             [
              0.4444444444444444,
              "#bd3786"
             ],
             [
              0.5555555555555556,
              "#d8576b"
             ],
             [
              0.6666666666666666,
              "#ed7953"
             ],
             [
              0.7777777777777778,
              "#fb9f3a"
             ],
             [
              0.8888888888888888,
              "#fdca26"
             ],
             [
              1,
              "#f0f921"
             ]
            ],
            "type": "contour"
           }
          ],
          "contourcarpet": [
           {
            "colorbar": {
             "outlinewidth": 0,
             "ticks": ""
            },
            "type": "contourcarpet"
           }
          ],
          "heatmap": [
           {
            "colorbar": {
             "outlinewidth": 0,
             "ticks": ""
            },
            "colorscale": [
             [
              0,
              "#0d0887"
             ],
             [
              0.1111111111111111,
              "#46039f"
             ],
             [
              0.2222222222222222,
              "#7201a8"
             ],
             [
              0.3333333333333333,
              "#9c179e"
             ],
             [
              0.4444444444444444,
              "#bd3786"
             ],
             [
              0.5555555555555556,
              "#d8576b"
             ],
             [
              0.6666666666666666,
              "#ed7953"
             ],
             [
              0.7777777777777778,
              "#fb9f3a"
             ],
             [
              0.8888888888888888,
              "#fdca26"
             ],
             [
              1,
              "#f0f921"
             ]
            ],
            "type": "heatmap"
           }
          ],
          "heatmapgl": [
           {
            "colorbar": {
             "outlinewidth": 0,
             "ticks": ""
            },
            "colorscale": [
             [
              0,
              "#0d0887"
             ],
             [
              0.1111111111111111,
              "#46039f"
             ],
             [
              0.2222222222222222,
              "#7201a8"
             ],
             [
              0.3333333333333333,
              "#9c179e"
             ],
             [
              0.4444444444444444,
              "#bd3786"
             ],
             [
              0.5555555555555556,
              "#d8576b"
             ],
             [
              0.6666666666666666,
              "#ed7953"
             ],
             [
              0.7777777777777778,
              "#fb9f3a"
             ],
             [
              0.8888888888888888,
              "#fdca26"
             ],
             [
              1,
              "#f0f921"
             ]
            ],
            "type": "heatmapgl"
           }
          ],
          "histogram": [
           {
            "marker": {
             "pattern": {
              "fillmode": "overlay",
              "size": 10,
              "solidity": 0.2
             }
            },
            "type": "histogram"
           }
          ],
          "histogram2d": [
           {
            "colorbar": {
             "outlinewidth": 0,
             "ticks": ""
            },
            "colorscale": [
             [
              0,
              "#0d0887"
             ],
             [
              0.1111111111111111,
              "#46039f"
             ],
             [
              0.2222222222222222,
              "#7201a8"
             ],
             [
              0.3333333333333333,
              "#9c179e"
             ],
             [
              0.4444444444444444,
              "#bd3786"
             ],
             [
              0.5555555555555556,
              "#d8576b"
             ],
             [
              0.6666666666666666,
              "#ed7953"
             ],
             [
              0.7777777777777778,
              "#fb9f3a"
             ],
             [
              0.8888888888888888,
              "#fdca26"
             ],
             [
              1,
              "#f0f921"
             ]
            ],
            "type": "histogram2d"
           }
          ],
          "histogram2dcontour": [
           {
            "colorbar": {
             "outlinewidth": 0,
             "ticks": ""
            },
            "colorscale": [
             [
              0,
              "#0d0887"
             ],
             [
              0.1111111111111111,
              "#46039f"
             ],
             [
              0.2222222222222222,
              "#7201a8"
             ],
             [
              0.3333333333333333,
              "#9c179e"
             ],
             [
              0.4444444444444444,
              "#bd3786"
             ],
             [
              0.5555555555555556,
              "#d8576b"
             ],
             [
              0.6666666666666666,
              "#ed7953"
             ],
             [
              0.7777777777777778,
              "#fb9f3a"
             ],
             [
              0.8888888888888888,
              "#fdca26"
             ],
             [
              1,
              "#f0f921"
             ]
            ],
            "type": "histogram2dcontour"
           }
          ],
          "mesh3d": [
           {
            "colorbar": {
             "outlinewidth": 0,
             "ticks": ""
            },
            "type": "mesh3d"
           }
          ],
          "parcoords": [
           {
            "line": {
             "colorbar": {
              "outlinewidth": 0,
              "ticks": ""
             }
            },
            "type": "parcoords"
           }
          ],
          "pie": [
           {
            "automargin": true,
            "type": "pie"
           }
          ],
          "scatter": [
           {
            "marker": {
             "colorbar": {
              "outlinewidth": 0,
              "ticks": ""
             }
            },
            "type": "scatter"
           }
          ],
          "scatter3d": [
           {
            "line": {
             "colorbar": {
              "outlinewidth": 0,
              "ticks": ""
             }
            },
            "marker": {
             "colorbar": {
              "outlinewidth": 0,
              "ticks": ""
             }
            },
            "type": "scatter3d"
           }
          ],
          "scattercarpet": [
           {
            "marker": {
             "colorbar": {
              "outlinewidth": 0,
              "ticks": ""
             }
            },
            "type": "scattercarpet"
           }
          ],
          "scattergeo": [
           {
            "marker": {
             "colorbar": {
              "outlinewidth": 0,
              "ticks": ""
             }
            },
            "type": "scattergeo"
           }
          ],
          "scattergl": [
           {
            "marker": {
             "colorbar": {
              "outlinewidth": 0,
              "ticks": ""
             }
            },
            "type": "scattergl"
           }
          ],
          "scattermapbox": [
           {
            "marker": {
             "colorbar": {
              "outlinewidth": 0,
              "ticks": ""
             }
            },
            "type": "scattermapbox"
           }
          ],
          "scatterpolar": [
           {
            "marker": {
             "colorbar": {
              "outlinewidth": 0,
              "ticks": ""
             }
            },
            "type": "scatterpolar"
           }
          ],
          "scatterpolargl": [
           {
            "marker": {
             "colorbar": {
              "outlinewidth": 0,
              "ticks": ""
             }
            },
            "type": "scatterpolargl"
           }
          ],
          "scatterternary": [
           {
            "marker": {
             "colorbar": {
              "outlinewidth": 0,
              "ticks": ""
             }
            },
            "type": "scatterternary"
           }
          ],
          "surface": [
           {
            "colorbar": {
             "outlinewidth": 0,
             "ticks": ""
            },
            "colorscale": [
             [
              0,
              "#0d0887"
             ],
             [
              0.1111111111111111,
              "#46039f"
             ],
             [
              0.2222222222222222,
              "#7201a8"
             ],
             [
              0.3333333333333333,
              "#9c179e"
             ],
             [
              0.4444444444444444,
              "#bd3786"
             ],
             [
              0.5555555555555556,
              "#d8576b"
             ],
             [
              0.6666666666666666,
              "#ed7953"
             ],
             [
              0.7777777777777778,
              "#fb9f3a"
             ],
             [
              0.8888888888888888,
              "#fdca26"
             ],
             [
              1,
              "#f0f921"
             ]
            ],
            "type": "surface"
           }
          ],
          "table": [
           {
            "cells": {
             "fill": {
              "color": "#EBF0F8"
             },
             "line": {
              "color": "white"
             }
            },
            "header": {
             "fill": {
              "color": "#C8D4E3"
             },
             "line": {
              "color": "white"
             }
            },
            "type": "table"
           }
          ]
         },
         "layout": {
          "annotationdefaults": {
           "arrowcolor": "#2a3f5f",
           "arrowhead": 0,
           "arrowwidth": 1
          },
          "autotypenumbers": "strict",
          "coloraxis": {
           "colorbar": {
            "outlinewidth": 0,
            "ticks": ""
           }
          },
          "colorscale": {
           "diverging": [
            [
             0,
             "#8e0152"
            ],
            [
             0.1,
             "#c51b7d"
            ],
            [
             0.2,
             "#de77ae"
            ],
            [
             0.3,
             "#f1b6da"
            ],
            [
             0.4,
             "#fde0ef"
            ],
            [
             0.5,
             "#f7f7f7"
            ],
            [
             0.6,
             "#e6f5d0"
            ],
            [
             0.7,
             "#b8e186"
            ],
            [
             0.8,
             "#7fbc41"
            ],
            [
             0.9,
             "#4d9221"
            ],
            [
             1,
             "#276419"
            ]
           ],
           "sequential": [
            [
             0,
             "#0d0887"
            ],
            [
             0.1111111111111111,
             "#46039f"
            ],
            [
             0.2222222222222222,
             "#7201a8"
            ],
            [
             0.3333333333333333,
             "#9c179e"
            ],
            [
             0.4444444444444444,
             "#bd3786"
            ],
            [
             0.5555555555555556,
             "#d8576b"
            ],
            [
             0.6666666666666666,
             "#ed7953"
            ],
            [
             0.7777777777777778,
             "#fb9f3a"
            ],
            [
             0.8888888888888888,
             "#fdca26"
            ],
            [
             1,
             "#f0f921"
            ]
           ],
           "sequentialminus": [
            [
             0,
             "#0d0887"
            ],
            [
             0.1111111111111111,
             "#46039f"
            ],
            [
             0.2222222222222222,
             "#7201a8"
            ],
            [
             0.3333333333333333,
             "#9c179e"
            ],
            [
             0.4444444444444444,
             "#bd3786"
            ],
            [
             0.5555555555555556,
             "#d8576b"
            ],
            [
             0.6666666666666666,
             "#ed7953"
            ],
            [
             0.7777777777777778,
             "#fb9f3a"
            ],
            [
             0.8888888888888888,
             "#fdca26"
            ],
            [
             1,
             "#f0f921"
            ]
           ]
          },
          "colorway": [
           "#636efa",
           "#EF553B",
           "#00cc96",
           "#ab63fa",
           "#FFA15A",
           "#19d3f3",
           "#FF6692",
           "#B6E880",
           "#FF97FF",
           "#FECB52"
          ],
          "font": {
           "color": "#2a3f5f"
          },
          "geo": {
           "bgcolor": "white",
           "lakecolor": "white",
           "landcolor": "#E5ECF6",
           "showlakes": true,
           "showland": true,
           "subunitcolor": "white"
          },
          "hoverlabel": {
           "align": "left"
          },
          "hovermode": "closest",
          "mapbox": {
           "style": "light"
          },
          "paper_bgcolor": "white",
          "plot_bgcolor": "#E5ECF6",
          "polar": {
           "angularaxis": {
            "gridcolor": "white",
            "linecolor": "white",
            "ticks": ""
           },
           "bgcolor": "#E5ECF6",
           "radialaxis": {
            "gridcolor": "white",
            "linecolor": "white",
            "ticks": ""
           }
          },
          "scene": {
           "xaxis": {
            "backgroundcolor": "#E5ECF6",
            "gridcolor": "white",
            "gridwidth": 2,
            "linecolor": "white",
            "showbackground": true,
            "ticks": "",
            "zerolinecolor": "white"
           },
           "yaxis": {
            "backgroundcolor": "#E5ECF6",
            "gridcolor": "white",
            "gridwidth": 2,
            "linecolor": "white",
            "showbackground": true,
            "ticks": "",
            "zerolinecolor": "white"
           },
           "zaxis": {
            "backgroundcolor": "#E5ECF6",
            "gridcolor": "white",
            "gridwidth": 2,
            "linecolor": "white",
            "showbackground": true,
            "ticks": "",
            "zerolinecolor": "white"
           }
          },
          "shapedefaults": {
           "line": {
            "color": "#2a3f5f"
           }
          },
          "ternary": {
           "aaxis": {
            "gridcolor": "white",
            "linecolor": "white",
            "ticks": ""
           },
           "baxis": {
            "gridcolor": "white",
            "linecolor": "white",
            "ticks": ""
           },
           "bgcolor": "#E5ECF6",
           "caxis": {
            "gridcolor": "white",
            "linecolor": "white",
            "ticks": ""
           }
          },
          "title": {
           "x": 0.05
          },
          "xaxis": {
           "automargin": true,
           "gridcolor": "white",
           "linecolor": "white",
           "ticks": "",
           "title": {
            "standoff": 15
           },
           "zerolinecolor": "white",
           "zerolinewidth": 2
          },
          "yaxis": {
           "automargin": true,
           "gridcolor": "white",
           "linecolor": "white",
           "ticks": "",
           "title": {
            "standoff": 15
           },
           "zerolinecolor": "white",
           "zerolinewidth": 2
          }
         }
        },
        "xaxis": {
         "anchor": "y",
         "domain": [
          0,
          1
         ],
         "title": {
          "text": "Month"
         }
        },
        "yaxis": {
         "anchor": "x",
         "domain": [
          0,
          1
         ],
         "title": {
          "text": "Passengers"
         }
        }
       }
      }
     },
     "metadata": {},
     "output_type": "display_data"
    }
   ],
   "source": [
    "px.line(data_frame=airline ,  y = airline.Passengers)"
   ]
  },
  {
   "cell_type": "markdown",
   "metadata": {},
   "source": [
    "<div style=\"margin: 2em; line-height: 1.7em; font-family: Times New Roman; font-size: 20px;\">\n",
    "    <b style=\"font-size: 25px;\">✅ &nbsp; Observation:</b><br><br>- So There is Yearly Seasonality in dataset and also have upward trend<br>\n",
    "    - Now we are not going to waste more time on Exploration and Visualization <br>\n",
    "    - So let's jump toward main part that is Building ARIMA model and OLS model <br>\n",
    "    - But before that we need to find out values of p, d, q variables \n",
    "</div>"
   ]
  },
  {
   "cell_type": "markdown",
   "metadata": {},
   "source": [
    "## <span><center style=\"text-indent: 2vw; color:black; display:fill; border-radius:30px; background-color: #ecf0f1 ; font-size:30px; font-family:Nexa; letter-spacing:0.5px; padding: 10px; text-align:left\" id = '2.4'><b>2.4 | Differencing dataset&nbsp;&nbsp;<a href = '#toc' style = 'color : black'>&#10514;</a></b></center></span>"
   ]
  },
  {
   "cell_type": "markdown",
   "metadata": {},
   "source": [
    "### <span style=\"margin: 1em; line-height: 1.7em; font-family: Times New Roman; font-size: 26px;\"><b>Non-Seasonal Differencing</b></span>"
   ]
  },
  {
   "cell_type": "code",
   "execution_count": 11,
   "metadata": {},
   "outputs": [],
   "source": [
    "airline['first_diff'] = airline['Passengers'].diff(1)\n",
    "airline['second_diff'] = airline['Passengers'].diff(1).diff(1)\n",
    "airline['third_diff'] = airline['Passengers'].diff(1).diff(1).diff(1)"
   ]
  },
  {
   "cell_type": "code",
   "execution_count": 12,
   "metadata": {},
   "outputs": [
    {
     "data": {
      "text/html": [
       "<div>\n",
       "<style scoped>\n",
       "    .dataframe tbody tr th:only-of-type {\n",
       "        vertical-align: middle;\n",
       "    }\n",
       "\n",
       "    .dataframe tbody tr th {\n",
       "        vertical-align: top;\n",
       "    }\n",
       "\n",
       "    .dataframe thead th {\n",
       "        text-align: right;\n",
       "    }\n",
       "</style>\n",
       "<table border=\"1\" class=\"dataframe\">\n",
       "  <thead>\n",
       "    <tr style=\"text-align: right;\">\n",
       "      <th></th>\n",
       "      <th>date</th>\n",
       "      <th>Passengers</th>\n",
       "      <th>first_diff</th>\n",
       "      <th>second_diff</th>\n",
       "      <th>third_diff</th>\n",
       "    </tr>\n",
       "    <tr>\n",
       "      <th>Month</th>\n",
       "      <th></th>\n",
       "      <th></th>\n",
       "      <th></th>\n",
       "      <th></th>\n",
       "      <th></th>\n",
       "    </tr>\n",
       "  </thead>\n",
       "  <tbody>\n",
       "    <tr>\n",
       "      <th>1995-01-01</th>\n",
       "      <td>1995-01-01</td>\n",
       "      <td>112</td>\n",
       "      <td>NaN</td>\n",
       "      <td>NaN</td>\n",
       "      <td>NaN</td>\n",
       "    </tr>\n",
       "    <tr>\n",
       "      <th>1995-02-01</th>\n",
       "      <td>1995-02-01</td>\n",
       "      <td>118</td>\n",
       "      <td>6.0</td>\n",
       "      <td>NaN</td>\n",
       "      <td>NaN</td>\n",
       "    </tr>\n",
       "    <tr>\n",
       "      <th>1995-03-01</th>\n",
       "      <td>1995-03-01</td>\n",
       "      <td>132</td>\n",
       "      <td>14.0</td>\n",
       "      <td>8.0</td>\n",
       "      <td>NaN</td>\n",
       "    </tr>\n",
       "    <tr>\n",
       "      <th>1995-04-01</th>\n",
       "      <td>1995-04-01</td>\n",
       "      <td>129</td>\n",
       "      <td>-3.0</td>\n",
       "      <td>-17.0</td>\n",
       "      <td>-25.0</td>\n",
       "    </tr>\n",
       "    <tr>\n",
       "      <th>1995-05-01</th>\n",
       "      <td>1995-05-01</td>\n",
       "      <td>121</td>\n",
       "      <td>-8.0</td>\n",
       "      <td>-5.0</td>\n",
       "      <td>12.0</td>\n",
       "    </tr>\n",
       "    <tr>\n",
       "      <th>1995-06-01</th>\n",
       "      <td>1995-06-01</td>\n",
       "      <td>135</td>\n",
       "      <td>14.0</td>\n",
       "      <td>22.0</td>\n",
       "      <td>27.0</td>\n",
       "    </tr>\n",
       "    <tr>\n",
       "      <th>1995-07-01</th>\n",
       "      <td>1995-07-01</td>\n",
       "      <td>148</td>\n",
       "      <td>13.0</td>\n",
       "      <td>-1.0</td>\n",
       "      <td>-23.0</td>\n",
       "    </tr>\n",
       "    <tr>\n",
       "      <th>1995-08-01</th>\n",
       "      <td>1995-08-01</td>\n",
       "      <td>148</td>\n",
       "      <td>0.0</td>\n",
       "      <td>-13.0</td>\n",
       "      <td>-12.0</td>\n",
       "    </tr>\n",
       "  </tbody>\n",
       "</table>\n",
       "</div>"
      ],
      "text/plain": [
       "                 date  Passengers  first_diff  second_diff  third_diff\n",
       "Month                                                                 \n",
       "1995-01-01 1995-01-01         112         NaN          NaN         NaN\n",
       "1995-02-01 1995-02-01         118         6.0          NaN         NaN\n",
       "1995-03-01 1995-03-01         132        14.0          8.0         NaN\n",
       "1995-04-01 1995-04-01         129        -3.0        -17.0       -25.0\n",
       "1995-05-01 1995-05-01         121        -8.0         -5.0        12.0\n",
       "1995-06-01 1995-06-01         135        14.0         22.0        27.0\n",
       "1995-07-01 1995-07-01         148        13.0         -1.0       -23.0\n",
       "1995-08-01 1995-08-01         148         0.0        -13.0       -12.0"
      ]
     },
     "execution_count": 12,
     "metadata": {},
     "output_type": "execute_result"
    }
   ],
   "source": [
    "airline.head(8)"
   ]
  },
  {
   "cell_type": "markdown",
   "metadata": {},
   "source": [
    "### <span style=\"margin: 1em; line-height: 1.7em; font-family: Times New Roman; font-size: 26px; color: navy\"><b> Seasonal Differencing</b></span>"
   ]
  },
  {
   "cell_type": "code",
   "execution_count": 13,
   "metadata": {},
   "outputs": [],
   "source": [
    "airline['seasonal_first_diff']=airline['Passengers'].diff(12)"
   ]
  },
  {
   "cell_type": "markdown",
   "metadata": {},
   "source": [
    "### <span style=\"margin: 1em; line-height: 1.7em; font-family: Times New Roman; font-size: 26px;\"><b> Seasonal + Non-Seasonal Differencing</b></span>"
   ]
  },
  {
   "cell_type": "code",
   "execution_count": 14,
   "metadata": {},
   "outputs": [],
   "source": [
    "airline['seasonal_non_seasonal']=airline.first_diff.diff(12)"
   ]
  },
  {
   "cell_type": "code",
   "execution_count": 15,
   "metadata": {},
   "outputs": [
    {
     "data": {
      "text/html": [
       "<div>\n",
       "<style scoped>\n",
       "    .dataframe tbody tr th:only-of-type {\n",
       "        vertical-align: middle;\n",
       "    }\n",
       "\n",
       "    .dataframe tbody tr th {\n",
       "        vertical-align: top;\n",
       "    }\n",
       "\n",
       "    .dataframe thead th {\n",
       "        text-align: right;\n",
       "    }\n",
       "</style>\n",
       "<table border=\"1\" class=\"dataframe\">\n",
       "  <thead>\n",
       "    <tr style=\"text-align: right;\">\n",
       "      <th></th>\n",
       "      <th>date</th>\n",
       "      <th>Passengers</th>\n",
       "      <th>first_diff</th>\n",
       "      <th>second_diff</th>\n",
       "      <th>third_diff</th>\n",
       "      <th>seasonal_first_diff</th>\n",
       "      <th>seasonal_non_seasonal</th>\n",
       "    </tr>\n",
       "    <tr>\n",
       "      <th>Month</th>\n",
       "      <th></th>\n",
       "      <th></th>\n",
       "      <th></th>\n",
       "      <th></th>\n",
       "      <th></th>\n",
       "      <th></th>\n",
       "      <th></th>\n",
       "    </tr>\n",
       "  </thead>\n",
       "  <tbody>\n",
       "    <tr>\n",
       "      <th>1995-01-01</th>\n",
       "      <td>1995-01-01</td>\n",
       "      <td>112</td>\n",
       "      <td>NaN</td>\n",
       "      <td>NaN</td>\n",
       "      <td>NaN</td>\n",
       "      <td>NaN</td>\n",
       "      <td>NaN</td>\n",
       "    </tr>\n",
       "    <tr>\n",
       "      <th>1995-02-01</th>\n",
       "      <td>1995-02-01</td>\n",
       "      <td>118</td>\n",
       "      <td>6.0</td>\n",
       "      <td>NaN</td>\n",
       "      <td>NaN</td>\n",
       "      <td>NaN</td>\n",
       "      <td>NaN</td>\n",
       "    </tr>\n",
       "    <tr>\n",
       "      <th>1995-03-01</th>\n",
       "      <td>1995-03-01</td>\n",
       "      <td>132</td>\n",
       "      <td>14.0</td>\n",
       "      <td>8.0</td>\n",
       "      <td>NaN</td>\n",
       "      <td>NaN</td>\n",
       "      <td>NaN</td>\n",
       "    </tr>\n",
       "    <tr>\n",
       "      <th>1995-04-01</th>\n",
       "      <td>1995-04-01</td>\n",
       "      <td>129</td>\n",
       "      <td>-3.0</td>\n",
       "      <td>-17.0</td>\n",
       "      <td>-25.0</td>\n",
       "      <td>NaN</td>\n",
       "      <td>NaN</td>\n",
       "    </tr>\n",
       "    <tr>\n",
       "      <th>1995-05-01</th>\n",
       "      <td>1995-05-01</td>\n",
       "      <td>121</td>\n",
       "      <td>-8.0</td>\n",
       "      <td>-5.0</td>\n",
       "      <td>12.0</td>\n",
       "      <td>NaN</td>\n",
       "      <td>NaN</td>\n",
       "    </tr>\n",
       "    <tr>\n",
       "      <th>1995-06-01</th>\n",
       "      <td>1995-06-01</td>\n",
       "      <td>135</td>\n",
       "      <td>14.0</td>\n",
       "      <td>22.0</td>\n",
       "      <td>27.0</td>\n",
       "      <td>NaN</td>\n",
       "      <td>NaN</td>\n",
       "    </tr>\n",
       "    <tr>\n",
       "      <th>1995-07-01</th>\n",
       "      <td>1995-07-01</td>\n",
       "      <td>148</td>\n",
       "      <td>13.0</td>\n",
       "      <td>-1.0</td>\n",
       "      <td>-23.0</td>\n",
       "      <td>NaN</td>\n",
       "      <td>NaN</td>\n",
       "    </tr>\n",
       "    <tr>\n",
       "      <th>1995-08-01</th>\n",
       "      <td>1995-08-01</td>\n",
       "      <td>148</td>\n",
       "      <td>0.0</td>\n",
       "      <td>-13.0</td>\n",
       "      <td>-12.0</td>\n",
       "      <td>NaN</td>\n",
       "      <td>NaN</td>\n",
       "    </tr>\n",
       "    <tr>\n",
       "      <th>1995-09-01</th>\n",
       "      <td>1995-09-01</td>\n",
       "      <td>136</td>\n",
       "      <td>-12.0</td>\n",
       "      <td>-12.0</td>\n",
       "      <td>1.0</td>\n",
       "      <td>NaN</td>\n",
       "      <td>NaN</td>\n",
       "    </tr>\n",
       "    <tr>\n",
       "      <th>1995-10-01</th>\n",
       "      <td>1995-10-01</td>\n",
       "      <td>119</td>\n",
       "      <td>-17.0</td>\n",
       "      <td>-5.0</td>\n",
       "      <td>7.0</td>\n",
       "      <td>NaN</td>\n",
       "      <td>NaN</td>\n",
       "    </tr>\n",
       "    <tr>\n",
       "      <th>1995-11-01</th>\n",
       "      <td>1995-11-01</td>\n",
       "      <td>104</td>\n",
       "      <td>-15.0</td>\n",
       "      <td>2.0</td>\n",
       "      <td>7.0</td>\n",
       "      <td>NaN</td>\n",
       "      <td>NaN</td>\n",
       "    </tr>\n",
       "    <tr>\n",
       "      <th>1995-12-01</th>\n",
       "      <td>1995-12-01</td>\n",
       "      <td>118</td>\n",
       "      <td>14.0</td>\n",
       "      <td>29.0</td>\n",
       "      <td>27.0</td>\n",
       "      <td>NaN</td>\n",
       "      <td>NaN</td>\n",
       "    </tr>\n",
       "    <tr>\n",
       "      <th>1996-01-01</th>\n",
       "      <td>1996-01-01</td>\n",
       "      <td>115</td>\n",
       "      <td>-3.0</td>\n",
       "      <td>-17.0</td>\n",
       "      <td>-46.0</td>\n",
       "      <td>3.0</td>\n",
       "      <td>NaN</td>\n",
       "    </tr>\n",
       "    <tr>\n",
       "      <th>1996-02-01</th>\n",
       "      <td>1996-02-01</td>\n",
       "      <td>126</td>\n",
       "      <td>11.0</td>\n",
       "      <td>14.0</td>\n",
       "      <td>31.0</td>\n",
       "      <td>8.0</td>\n",
       "      <td>5.0</td>\n",
       "    </tr>\n",
       "    <tr>\n",
       "      <th>1996-03-01</th>\n",
       "      <td>1996-03-01</td>\n",
       "      <td>141</td>\n",
       "      <td>15.0</td>\n",
       "      <td>4.0</td>\n",
       "      <td>-10.0</td>\n",
       "      <td>9.0</td>\n",
       "      <td>1.0</td>\n",
       "    </tr>\n",
       "    <tr>\n",
       "      <th>1996-04-01</th>\n",
       "      <td>1996-04-01</td>\n",
       "      <td>135</td>\n",
       "      <td>-6.0</td>\n",
       "      <td>-21.0</td>\n",
       "      <td>-25.0</td>\n",
       "      <td>6.0</td>\n",
       "      <td>-3.0</td>\n",
       "    </tr>\n",
       "    <tr>\n",
       "      <th>1996-05-01</th>\n",
       "      <td>1996-05-01</td>\n",
       "      <td>125</td>\n",
       "      <td>-10.0</td>\n",
       "      <td>-4.0</td>\n",
       "      <td>17.0</td>\n",
       "      <td>4.0</td>\n",
       "      <td>-2.0</td>\n",
       "    </tr>\n",
       "    <tr>\n",
       "      <th>1996-06-01</th>\n",
       "      <td>1996-06-01</td>\n",
       "      <td>149</td>\n",
       "      <td>24.0</td>\n",
       "      <td>34.0</td>\n",
       "      <td>38.0</td>\n",
       "      <td>14.0</td>\n",
       "      <td>10.0</td>\n",
       "    </tr>\n",
       "  </tbody>\n",
       "</table>\n",
       "</div>"
      ],
      "text/plain": [
       "                 date  Passengers  first_diff  second_diff  third_diff  \\\n",
       "Month                                                                    \n",
       "1995-01-01 1995-01-01         112         NaN          NaN         NaN   \n",
       "1995-02-01 1995-02-01         118         6.0          NaN         NaN   \n",
       "1995-03-01 1995-03-01         132        14.0          8.0         NaN   \n",
       "1995-04-01 1995-04-01         129        -3.0        -17.0       -25.0   \n",
       "1995-05-01 1995-05-01         121        -8.0         -5.0        12.0   \n",
       "1995-06-01 1995-06-01         135        14.0         22.0        27.0   \n",
       "1995-07-01 1995-07-01         148        13.0         -1.0       -23.0   \n",
       "1995-08-01 1995-08-01         148         0.0        -13.0       -12.0   \n",
       "1995-09-01 1995-09-01         136       -12.0        -12.0         1.0   \n",
       "1995-10-01 1995-10-01         119       -17.0         -5.0         7.0   \n",
       "1995-11-01 1995-11-01         104       -15.0          2.0         7.0   \n",
       "1995-12-01 1995-12-01         118        14.0         29.0        27.0   \n",
       "1996-01-01 1996-01-01         115        -3.0        -17.0       -46.0   \n",
       "1996-02-01 1996-02-01         126        11.0         14.0        31.0   \n",
       "1996-03-01 1996-03-01         141        15.0          4.0       -10.0   \n",
       "1996-04-01 1996-04-01         135        -6.0        -21.0       -25.0   \n",
       "1996-05-01 1996-05-01         125       -10.0         -4.0        17.0   \n",
       "1996-06-01 1996-06-01         149        24.0         34.0        38.0   \n",
       "\n",
       "            seasonal_first_diff  seasonal_non_seasonal  \n",
       "Month                                                   \n",
       "1995-01-01                  NaN                    NaN  \n",
       "1995-02-01                  NaN                    NaN  \n",
       "1995-03-01                  NaN                    NaN  \n",
       "1995-04-01                  NaN                    NaN  \n",
       "1995-05-01                  NaN                    NaN  \n",
       "1995-06-01                  NaN                    NaN  \n",
       "1995-07-01                  NaN                    NaN  \n",
       "1995-08-01                  NaN                    NaN  \n",
       "1995-09-01                  NaN                    NaN  \n",
       "1995-10-01                  NaN                    NaN  \n",
       "1995-11-01                  NaN                    NaN  \n",
       "1995-12-01                  NaN                    NaN  \n",
       "1996-01-01                  3.0                    NaN  \n",
       "1996-02-01                  8.0                    5.0  \n",
       "1996-03-01                  9.0                    1.0  \n",
       "1996-04-01                  6.0                   -3.0  \n",
       "1996-05-01                  4.0                   -2.0  \n",
       "1996-06-01                 14.0                   10.0  "
      ]
     },
     "execution_count": 15,
     "metadata": {},
     "output_type": "execute_result"
    }
   ],
   "source": [
    "airline.head(18)"
   ]
  },
  {
   "cell_type": "code",
   "execution_count": 16,
   "metadata": {},
   "outputs": [
    {
     "data": {
      "text/plain": [
       "Text(0.5, 1.0, 'Passengers')"
      ]
     },
     "execution_count": 16,
     "metadata": {},
     "output_type": "execute_result"
    },
    {
     "data": {
      "image/png": "[encoded data removed]",
      "text/plain": [
       "<Figure size 1440x1080 with 6 Axes>"
      ]
     },
     "metadata": {
      "needs_background": "light"
     },
     "output_type": "display_data"
    }
   ],
   "source": [
    "fig, ax = plt.subplots(nrows=3, ncols=2, figsize = (20,15))\n",
    "\n",
    "ax[0][0].plot(airline.first_diff)\n",
    "ax[0][0].set_title('First Difference')\n",
    "\n",
    "ax[0][1].plot(airline.seasonal_first_diff)\n",
    "ax[0][1].set_title('Seasonal First Difference')\n",
    "\n",
    "ax[1][0].plot(airline.second_diff)\n",
    "ax[1][0].set_title('Second Difference')\n",
    "\n",
    "ax[1][1].plot(airline.third_diff)\n",
    "ax[1][1].set_title('Third Difference')\n",
    "\n",
    "ax[2][0].plot(airline.seasonal_non_seasonal)\n",
    "ax[2][0].set_title('Seasonal and Non-Seasonal Difference')\n",
    "\n",
    "ax[2][1].plot(airline.Passengers)\n",
    "ax[2][1].set_title('Passengers')"
   ]
  },
  {
   "cell_type": "markdown",
   "metadata": {},
   "source": [
    "<div style=\"margin: 2em; line-height: 1.7em; font-family: Times New Roman; font-size: 20px; color:black\">\n",
    "    <b style=\"font-size: 25px;\">✅ &nbsp; Observation:</b><br><br>- First Non-Seasonal Differencing plot show that, the dataset is stationary but still it consists of seasonality pattern even after trying second order Non-Seasonality differencing <br>\n",
    "    - Third plot shows that, after first seasonality difference the dataset is not stationarised but after second order Seasonality difference, dataset is now stationary. <br>\n",
    "    - So we can conclude that value of <b>Non-Seasonality difference may be 1 and/or For Seasonality difference may be equal to 2</b><br>\n",
    "    - Using combination of seasonal and Non-Seasonal differencing the order of differencing may be equal to 1<br>\n",
    "    - Let's Confirm this intuation using ADFuller test\n",
    "</div> "
   ]
  },
  {
   "cell_type": "code",
   "execution_count": null,
   "metadata": {},
   "outputs": [],
   "source": []
  },
  {
   "cell_type": "markdown",
   "metadata": {},
   "source": [
    "## <span><center style=\"text-indent: 2vw; color:black; display:fill; border-radius:30px; background-color: #ecf0f1 ; font-size:30px; font-family:Nexa; letter-spacing:0.5px; padding: 10px; text-align:left\" id = '2.5'><b>2.5 | Finding correct order and type of differencing &nbsp;&nbsp;<a href = '#toc' style = 'color : black'>&#10514;</a></b></center></span>"
   ]
  },
  {
   "cell_type": "code",
   "execution_count": 17,
   "metadata": {},
   "outputs": [],
   "source": [
    "def ADFuller(x):\n",
    "    test = adfuller(x)\n",
    "    print(f'{bl_}1. ADF : {y_}{test[0]}')\n",
    "    print(f'{bl_}2. P-score : {y_}{test[1]}')\n",
    "    print(f'{bl_}3. No. of lags used : {y_}{test[2]}')\n",
    "    print(f'{bl_}4. number of observations used for the ADF regression : {y_}{test[3]}')\n",
    "    print(f'{bl_}5. Critical values :')\n",
    "    for key, item in test[4].items():\n",
    "        print(f'\\t{key} : {item}')"
   ]
  },
  {
   "cell_type": "code",
   "execution_count": 18,
   "metadata": {},
   "outputs": [
    {
     "name": "stdout",
     "output_type": "stream",
     "text": [
      "\u001b[30m1. ADF : \u001b[33m1.3402479596467032\n",
      "\u001b[30m2. P-score : \u001b[33m0.9968250481137263\n",
      "\u001b[30m3. No. of lags used : \u001b[33m12\n",
      "\u001b[30m4. number of observations used for the ADF regression : \u001b[33m83\n",
      "\u001b[30m5. Critical values :\n",
      "\t1% : -3.5117123057187376\n",
      "\t5% : -2.8970475206326833\n",
      "\t10% : -2.5857126912469153\n"
     ]
    }
   ],
   "source": [
    "ADFuller(airline.Passengers)"
   ]
  },
  {
   "cell_type": "code",
   "execution_count": 19,
   "metadata": {},
   "outputs": [
    {
     "name": "stdout",
     "output_type": "stream",
     "text": [
      "\u001b[30m1. ADF : \u001b[33m-2.150001735920652\n",
      "\u001b[30m2. P-score : \u001b[33m0.22488942647512628\n",
      "\u001b[30m3. No. of lags used : \u001b[33m12\n",
      "\u001b[30m4. number of observations used for the ADF regression : \u001b[33m82\n",
      "\u001b[30m5. Critical values :\n",
      "\t1% : -3.512738056978279\n",
      "\t5% : -2.8974898650628984\n",
      "\t10% : -2.585948732897085\n"
     ]
    }
   ],
   "source": [
    "ADFuller(airline.first_diff.dropna())"
   ]
  },
  {
   "cell_type": "code",
   "execution_count": 20,
   "metadata": {},
   "outputs": [
    {
     "name": "stdout",
     "output_type": "stream",
     "text": [
      "\u001b[30m1. ADF : \u001b[33m-11.547980944840823\n",
      "\u001b[30m2. P-score : \u001b[33m3.5031802363209806e-21\n",
      "\u001b[30m3. No. of lags used : \u001b[33m11\n",
      "\u001b[30m4. number of observations used for the ADF regression : \u001b[33m82\n",
      "\u001b[30m5. Critical values :\n",
      "\t1% : -3.512738056978279\n",
      "\t5% : -2.8974898650628984\n",
      "\t10% : -2.585948732897085\n"
     ]
    }
   ],
   "source": [
    "ADFuller(airline.second_diff.dropna())"
   ]
  },
  {
   "cell_type": "code",
   "execution_count": 21,
   "metadata": {},
   "outputs": [
    {
     "name": "stdout",
     "output_type": "stream",
     "text": [
      "\u001b[30m1. ADF : \u001b[33m-8.68731978783411\n",
      "\u001b[30m2. P-score : \u001b[33m4.1296380722615856e-14\n",
      "\u001b[30m3. No. of lags used : \u001b[33m12\n",
      "\u001b[30m4. number of observations used for the ADF regression : \u001b[33m80\n",
      "\u001b[30m5. Critical values :\n",
      "\t1% : -3.5148692050781247\n",
      "\t5% : -2.8984085156250003\n",
      "\t10% : -2.58643890625\n"
     ]
    }
   ],
   "source": [
    "ADFuller(airline.third_diff.dropna() )"
   ]
  },
  {
   "cell_type": "code",
   "execution_count": 22,
   "metadata": {},
   "outputs": [
    {
     "name": "stdout",
     "output_type": "stream",
     "text": [
      "\u001b[30m1. ADF : \u001b[33m-2.6900043838623167\n",
      "\u001b[30m2. P-score : \u001b[33m0.07578397625851754\n",
      "\u001b[30m3. No. of lags used : \u001b[33m1\n",
      "\u001b[30m4. number of observations used for the ADF regression : \u001b[33m82\n",
      "\u001b[30m5. Critical values :\n",
      "\t1% : -3.512738056978279\n",
      "\t5% : -2.8974898650628984\n",
      "\t10% : -2.585948732897085\n"
     ]
    }
   ],
   "source": [
    "ADFuller(airline.seasonal_first_diff.dropna())"
   ]
  },
  {
   "cell_type": "code",
   "execution_count": 23,
   "metadata": {},
   "outputs": [
    {
     "name": "stdout",
     "output_type": "stream",
     "text": [
      "\u001b[30m1. ADF : \u001b[33m-11.69783994340899\n",
      "\u001b[30m2. P-score : \u001b[33m1.594893981767946e-21\n",
      "\u001b[30m3. No. of lags used : \u001b[33m0\n",
      "\u001b[30m4. number of observations used for the ADF regression : \u001b[33m82\n",
      "\u001b[30m5. Critical values :\n",
      "\t1% : -3.512738056978279\n",
      "\t5% : -2.8974898650628984\n",
      "\t10% : -2.585948732897085\n"
     ]
    }
   ],
   "source": [
    "ADFuller(airline.seasonal_non_seasonal.dropna())"
   ]
  },
  {
   "cell_type": "markdown",
   "metadata": {},
   "source": [
    "<div style=\"margin: 2em; line-height: 1.7em; font-family: Times New Roman; font-size: 20px; color:black\">\n",
    "    <b style=\"font-size: 25px;\">✅ &nbsp; Observation:</b><br><br>- So from ADFuller test we got the result that Non-Seasonal and Seasonal differencing should be 2 (overdifferenced) and 1 (underdifferenced) <br>\n",
    "    - If we use combination of Non-Seasonal and Seasonal differencing the order must be 1 for both. <br>\n",
    "    - But still it is not sure because Non-Seasonal difference may be over_differenced, So we use ACF and PACF plots to confirm the results\n",
    "</div> "
   ]
  },
  {
   "cell_type": "markdown",
   "metadata": {},
   "source": [
    "## <span><center style=\"text-indent: 2vw; color:black; display:fill; border-radius:30px; background-color: #ecf0f1 ; font-size:30px; font-family:Nexa; letter-spacing:0.5px; padding: 10px; text-align:left\" id = '2.6'><b>2.6 | ACF and PACF plots&nbsp;&nbsp;<a href = '#toc' style = 'color : black'>&#10514;</a></b></center></span>"
   ]
  },
  {
   "cell_type": "code",
   "execution_count": 24,
   "metadata": {},
   "outputs": [],
   "source": [
    "def ACF_and_PACF(x):\n",
    "    plot_acf(x)\n",
    "    plot_pacf(x)\n",
    "    plt.show()"
   ]
  },
  {
   "cell_type": "markdown",
   "metadata": {},
   "source": [
    "<span style=\"margin: 2em; line-height: 1.7em; font-family: Times New Roman; font-size: 25px; color:black\"><b>📖 Non-Seasonal Differencing</b></span>"
   ]
  },
  {
   "cell_type": "code",
   "execution_count": 25,
   "metadata": {},
   "outputs": [
    {
     "data": {
      "image/png": "[encoded data removed]",
      "text/plain": [
       "<Figure size 432x288 with 1 Axes>"
      ]
     },
     "metadata": {
      "needs_background": "light"
     },
     "output_type": "display_data"
    },
    {
     "data": {
      "image/png": "[encoded data removed]",
      "text/plain": [
       "<Figure size 432x288 with 1 Axes>"
      ]
     },
     "metadata": {
      "needs_background": "light"
     },
     "output_type": "display_data"
    }
   ],
   "source": [
    "ACF_and_PACF(airline.Passengers)"
   ]
  },
  {
   "cell_type": "code",
   "execution_count": 26,
   "metadata": {},
   "outputs": [
    {
     "data": {
      "image/png": "[encoded data removed]",
      "text/plain": [
       "<Figure size 432x288 with 1 Axes>"
      ]
     },
     "metadata": {
      "needs_background": "light"
     },
     "output_type": "display_data"
    },
    {
     "data": {
      "image/png": "[encoded data removed]",
      "text/plain": [
       "<Figure size 432x288 with 1 Axes>"
      ]
     },
     "metadata": {
      "needs_background": "light"
     },
     "output_type": "display_data"
    }
   ],
   "source": [
    "ACF_and_PACF(airline.first_diff.dropna())"
   ]
  },
  {
   "cell_type": "code",
   "execution_count": 27,
   "metadata": {},
   "outputs": [
    {
     "data": {
      "image/png": "[encoded data removed]",
      "text/plain": [
       "<Figure size 432x288 with 1 Axes>"
      ]
     },
     "metadata": {
      "needs_background": "light"
     },
     "output_type": "display_data"
    },
    {
     "data": {
      "image/png": "[encoded data removed]",
      "text/plain": [
       "<Figure size 432x288 with 1 Axes>"
      ]
     },
     "metadata": {
      "needs_background": "light"
     },
     "output_type": "display_data"
    }
   ],
   "source": [
    "ACF_and_PACF(airline.second_diff.dropna())"
   ]
  },
  {
   "cell_type": "code",
   "execution_count": 28,
   "metadata": {},
   "outputs": [
    {
     "data": {
      "image/png": "[encoded data removed]",
      "text/plain": [
       "<Figure size 432x288 with 1 Axes>"
      ]
     },
     "metadata": {
      "needs_background": "light"
     },
     "output_type": "display_data"
    },
    {
     "data": {
      "image/png": "[encoded data removed]",
      "text/plain": [
       "<Figure size 432x288 with 1 Axes>"
      ]
     },
     "metadata": {
      "needs_background": "light"
     },
     "output_type": "display_data"
    }
   ],
   "source": [
    "ACF_and_PACF(airline.third_diff.dropna())"
   ]
  },
  {
   "cell_type": "markdown",
   "metadata": {},
   "source": [
    "<span style=\"margin: 2em; line-height: 1.7em; font-family: Times New Roman; font-size: 25px; color:black\"><b>📖 Seasonal Differencing</b></span>"
   ]
  },
  {
   "cell_type": "code",
   "execution_count": 29,
   "metadata": {},
   "outputs": [
    {
     "data": {
      "image/png": "[encoded data removed]",
      "text/plain": [
       "<Figure size 432x288 with 1 Axes>"
      ]
     },
     "metadata": {
      "needs_background": "light"
     },
     "output_type": "display_data"
    },
    {
     "data": {
      "image/png": "[encoded data removed]",
      "text/plain": [
       "<Figure size 432x288 with 1 Axes>"
      ]
     },
     "metadata": {
      "needs_background": "light"
     },
     "output_type": "display_data"
    }
   ],
   "source": [
    "ACF_and_PACF(airline.seasonal_first_diff.dropna())"
   ]
  },
  {
   "cell_type": "code",
   "execution_count": 30,
   "metadata": {},
   "outputs": [],
   "source": [
    "# ACF_and_PACF(airline.seasonal_second_diff.dropna())"
   ]
  },
  {
   "cell_type": "markdown",
   "metadata": {},
   "source": [
    "<span style=\"margin: 2em; line-height: 1.7em; font-family: Times New Roman; font-size: 25px; color:black\"><b>📖 Non-Seasonal + Seasonal Differencing</b></span>"
   ]
  },
  {
   "cell_type": "code",
   "execution_count": 31,
   "metadata": {},
   "outputs": [
    {
     "data": {
      "image/png": "[encoded data removed]",
      "text/plain": [
       "<Figure size 432x288 with 1 Axes>"
      ]
     },
     "metadata": {
      "needs_background": "light"
     },
     "output_type": "display_data"
    },
    {
     "data": {
      "image/png": "[encoded data removed]",
      "text/plain": [
       "<Figure size 432x288 with 1 Axes>"
      ]
     },
     "metadata": {
      "needs_background": "light"
     },
     "output_type": "display_data"
    }
   ],
   "source": [
    "ACF_and_PACF(airline.seasonal_non_seasonal.dropna())"
   ]
  },
  {
   "cell_type": "markdown",
   "metadata": {},
   "source": [
    "<div style=\"margin: 2em; line-height: 1.7em; font-family: Times New Roman; font-size: 20px; color:black\">\n",
    "    <b style=\"font-size: 25px;\">✅ &nbsp; Observation:</b><br><br>- From ADFuller test we know that after 2 differencing the time series is stationary, but 1 differencing for seasonal + non-seasonal will work fine. <br>\n",
    "    - If we ACF and PACF plot of single order non-seasonal differencing then we have to use AR and SAR term equal to 1. <br>\n",
    "    - If Differencing is greater that 1, then MA and SAR term will be equal to 2 and 1.<br>\n",
    "    - If single order of differencing is used for Non-Seasonal and Seasonal then from ACF and PACF plots, we can conclude that it is bit overdifferenced so we will use Moving Average terms MA and SMA equal to 1.\n",
    "</div>"
   ]
  },
  {
   "cell_type": "markdown",
   "metadata": {},
   "source": [
    "<div style=\"margin: 2em; line-height: 1.7em; font-family: Times New Roman; font-size: 20px; color:black\">\n",
    "    <b style=\"font-size: 25px;\">✅ &nbsp; Observation:</b><br><br> So combinations to try <br>\n",
    "    (0,1,1) x (0,1,1)<br>\n",
    "    (0,2,1) x (1,0,0)<br>\n",
    "    (0,0,1) x (0,2,1)<br>\n",
    "</div>  "
   ]
  },
  {
   "cell_type": "markdown",
   "metadata": {},
   "source": [
    "# <span><center style = \"display: fill; border-radius: 40px; background-color:  #ecf0f1 ; font-family: Times New Roman; font-size:40px; color : black; letter-spacing: 3px; font-weight: bold; padding: 10px\" id = \"3\" >3. &nbsp;MODEL BUILDING&nbsp;&nbsp;&nbsp;&nbsp;<a href = '#toc' style = 'color : black'>&#10514;</a></center></span>"
   ]
  },
  {
   "cell_type": "markdown",
   "metadata": {},
   "source": [
    "## <span><center style=\"text-indent: 2vw;color:black; display:fill; border-radius:30px; background-color: #ecf0f1 ; font-size:30px; font-family:Nexa; letter-spacing:0.5px; padding: 10px; text-align:left\" id = '2.1'><b>2.1 | Basic Exploration&nbsp;&nbsp;<a href = '#toc' style = 'color : black'>&#10514;</a></b></center></span>"
   ]
  },
  {
   "cell_type": "code",
   "execution_count": null,
   "metadata": {},
   "outputs": [],
   "source": []
  }
 ],
 "metadata": {
  "interpreter": {
   "hash": "7be0313b9b0b82634757c96dd852576f7ee75d75f1a026daa79c1cfa1a797b3e"
  },
  "kernelspec": {
   "display_name": "Python 3.9.7",
   "language": "python",
   "name": "python3"
  },
  "language_info": {
   "codemirror_mode": {
    "name": "ipython",
    "version": 3
   },
   "file_extension": ".py",
   "mimetype": "text/x-python",
   "name": "python",
   "nbconvert_exporter": "python",
   "pygments_lexer": "ipython3",
   "version": "3.9.7"
  },
  "orig_nbformat": 4
 },
 "nbformat": 4,
 "nbformat_minor": 2
}
