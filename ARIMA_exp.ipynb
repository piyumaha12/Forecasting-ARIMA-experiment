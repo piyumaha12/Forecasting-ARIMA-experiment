{
 "cells": [
  {
   "cell_type": "markdown",
   "metadata": {},
   "source": [
    "\n",
    "<div style=\"text-indent: 2vw;color:black; display:fill; border-radius:30px;\n",
    "            background-color: #ecf0f1 ; font-size:30px;\n",
    "            font-family:Nexa; letter-spacing:0.5px\">\n",
    "    <p style=\"padding: 8px;color:black;\"><b>1.1 | THE NEED</b></p>\n",
    "</div>"
   ]
  },
  {
   "cell_type": "markdown",
   "metadata": {},
   "source": [
    "<div style=\"margin: 2em; line-height: 1.7em; font-family: Times New Roman;\">\n",
    "    <b style=\"font-size: 24px;\">🛑 &nbsp; NOTE:</b><br><br>- As We know there are many null values in the dataset and many of them have valid and strong reason. So, Those missing values can easly be filled.<br>\n",
    "    - Let's Fill them out 😃😃\n",
    "</div>"
   ]
  },
  {
   "cell_type": "markdown",
   "metadata": {},
   "source": [
    "<p id=\"toc\"></p>\n",
    "\n",
    "<h1 style=\"font-family: Times New Roman; font-size: 30px; font-style: normal; font-weight: bold; text-decoration: none; text-transform: none; letter-spacing: 3px; color: teal; background-color: #ffffff;\">TABLE OF CONTENTS</h1>\n",
    "\n",
    "---\n",
    "\n",
    "<h3 style=\"text-indent: 8vw; font-family: Times New Roman; font-size: 20px; font-style: normal; font-weight: normal; text-decoration: none; text-transform: none; letter-spacing: 2px; color: navy; background-color: #ffffff;\"><a href=\"#0\">0&nbsp;&nbsp;&nbsp;&nbsp;IMPORTS</a></h3>\n",
    "\n",
    "---\n",
    "\n",
    "<h3 style=\"text-indent: 8vw; font-family: Times New Roman; font-size: 20px; font-style: normal; font-weight: normal; text-decoration: none; text-transform: none; letter-spacing: 2px; color: navy; background-color: #ffffff;\"><a href=\"#1\">1&nbsp;&nbsp;&nbsp;&nbsp;DATASET</a></h3>\n",
    "\n",
    "---\n",
    "\n",
    "<h3 style=\"text-indent: 8vw; font-family: Times New Roman; font-size: 20px; font-style: normal; font-weight: normal; text-decoration: none; text-transform: none; letter-spacing: 2px; color: navy; background-color: #ffffff;\"><a href=\"#data_exploration\">2&nbsp;&nbsp;&nbsp;&nbsp;DATA EXPLORATION AND VISUALIZATION</a></h3>\n",
    "\n",
    "<h3 style=\"text-indent: 15vw; font-family: Times New Roman; font-size: 18px; font-style: normal; font-weight: normal; text-decoration: none; text-transform: none; letter-spacing: 2px; color: navy; background-color: #ffffff;\"><a href=\"#basic_exploration\">2.1&nbsp;&nbsp;&nbsp;&nbsp;Basic Exploration</a></h3>\n",
    "\n",
    "<h3 style=\"text-indent: 15vw; font-family: Times New Roman; font-size: 18px; font-style: normal; font-weight: normal; text-decoration: none; text-transform: none; letter-spacing: 2px; color: navy; background-color: #ffffff;\"><a href=\"#data_type_check\">2.2&nbsp;&nbsp;&nbsp;&nbsp;Data Type Check</a></h3>\n",
    "\n",
    "<h3 style=\"text-indent: 15vw; font-family: Times New Roman; font-size: 18px; font-style: normal; font-weight: normal; text-decoration: none; text-transform: none; letter-spacing: 2px; color: navy; background-color: #ffffff;\"><a href=\"#adding_more_information\">2.3&nbsp;&nbsp;&nbsp;&nbsp;Adding More Information</a></h3>\n",
    "\n",
    "<h3 style=\"text-indent: 15vw; font-family: Times New Roman; font-size: 18px; font-style: normal; font-weight: normal; text-decoration: none; text-transform: none; letter-spacing: 2px; color: navy; background-color: #ffffff;\"><a href=\"#filling_null_values\">2.4&nbsp;&nbsp;&nbsp;&nbsp;Filling Null Values</a></h3>\n",
    "\n",
    "\n",
    "---\n",
    "\n",
    "<h3 style=\"text-indent: 8vw; font-family: Times New Roman; font-size: 20px; font-style: normal; font-weight: normal; text-decoration: none; text-transform: none; letter-spacing: 2px; color: navy; background-color: #ffffff;\"><a href=\"#model_building\">3&nbsp;&nbsp;&nbsp;&nbsp;MODEL BUILDING</a></h3>\n",
    "\n",
    "<h3 style=\"text-indent: 15vw; font-family: Times New Roman; font-size: 18px; font-style: normal; font-weight: normal; text-decoration: none; text-transform: none; letter-spacing: 2px; color: navy; background-color: #ffffff;\"><a href=\"#model_imports\">3.1&nbsp;&nbsp;&nbsp;&nbsp;Model Imports</a></h3>\n",
    "\n",
    "---"
   ]
  },
  {
   "cell_type": "markdown",
   "metadata": {},
   "source": [
    "# <span><center style = \"display: fill; border-radius: 40px; background-color:  #ecf0f1 ; font-family: Times New Roman; font-size:40px; color : black; letter-spacing: 3px; font-weight: bold; padding: 10px\" id = \"0\" >0. &nbsp;IMPORTS&nbsp;&nbsp;&nbsp;&nbsp;<a href = '#toc' style = 'color : black'>&#10514;</a></center></span>"
   ]
  },
  {
   "cell_type": "code",
   "execution_count": 1,
   "metadata": {},
   "outputs": [],
   "source": [
    "import pandas as pd\n",
    "import numpy as np\n",
    "import plotly.express as px\n",
    "import plotly.graph_objects as go\n",
    "import plotly.figure_factory as ff\n",
    "import os\n",
    "import matplotlib.pyplot as plt\n",
    "import seaborn as sns\n",
    "\n",
    "from statsmodels.tsa.arima_model import ARIMA\n",
    "from statsmodels.tsa.seasonal import seasonal_decompose\n",
    "from statsmodels.tsa.statespace.sarimax import SARIMAX\n",
    "from statsmodels.tsa.holtwinters import Holt, SimpleExpSmoothing, ExponentialSmoothing\n",
    "from statsmodels.graphics.tsaplots import plot_acf, plot_pacf, seasonal_plot\n",
    "from statsmodels.tsa.stattools import adfuller, kpss"
   ]
  },
  {
   "cell_type": "markdown",
   "metadata": {},
   "source": [
    "# <span><center style = \"display: fill; border-radius: 40px; background-color:  #ecf0f1 ; font-family: Times New Roman; font-size:40px; color : black; letter-spacing: 3px; font-weight: bold; padding: 10px\" id = \"1\" >1. &nbsp;DATASET&nbsp;&nbsp;&nbsp;&nbsp;<a href = '#toc' style = 'color : black'>&#10514;</a></center></span>"
   ]
  },
  {
   "cell_type": "code",
   "execution_count": null,
   "metadata": {},
   "outputs": [],
   "source": []
  }
 ],
 "metadata": {
  "interpreter": {
   "hash": "7be0313b9b0b82634757c96dd852576f7ee75d75f1a026daa79c1cfa1a797b3e"
  },
  "kernelspec": {
   "display_name": "Python 3.9.7",
   "language": "python",
   "name": "python3"
  },
  "language_info": {
   "codemirror_mode": {
    "name": "ipython",
    "version": 3
   },
   "file_extension": ".py",
   "mimetype": "text/x-python",
   "name": "python",
   "nbconvert_exporter": "python",
   "pygments_lexer": "ipython3",
   "version": "3.9.7"
  },
  "orig_nbformat": 4
 },
 "nbformat": 4,
 "nbformat_minor": 2
}
